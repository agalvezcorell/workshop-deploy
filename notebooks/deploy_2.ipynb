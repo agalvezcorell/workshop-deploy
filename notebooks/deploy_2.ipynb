{
 "cells": [
  {
   "cell_type": "markdown",
   "metadata": {},
   "source": [
    "![portada](../images/cover.jpg)"
   ]
  },
  {
   "cell_type": "markdown",
   "metadata": {},
   "source": [
    "# Segunda parte (y sin morir en el intento) 🤪"
   ]
  },
  {
   "cell_type": "markdown",
   "metadata": {},
   "source": [
    "Deployeamos una API que bebe de datos que están en un repositorio (o que coge datos de otro repositorio que se actualizan) y que puede correr sin necesidad de un contenedor.  \n",
    "Ponemos de ejemplo una API hecha con Streamlit como nuestro leaderboard   \n",
    "     \n",
    "        \n",
    "a.k.a la KATADATA 🥋  "
   ]
  },
  {
   "cell_type": "markdown",
   "metadata": {},
   "source": [
    "## En local me funciona 🥳"
   ]
  },
  {
   "cell_type": "markdown",
   "metadata": {},
   "source": [
    "Evidentemente, necesitamos que nuestra fabulosa y preciosa API esté corriendo en local sin dar ningún fallo y con todos los archivos a los que accede en el mismo repositorio. "
   ]
  },
  {
   "cell_type": "markdown",
   "metadata": {},
   "source": [
    "![yeah](https://media.giphy.com/media/3o7aTp7JTuH7Gq0wZq/giphy.gif)"
   ]
  },
  {
   "cell_type": "markdown",
   "metadata": {},
   "source": [
    "## Archivos necesarios"
   ]
  },
  {
   "cell_type": "markdown",
   "metadata": {},
   "source": [
    "Para deployear streamlit necesitamos un par de archivitos muy sencillos... uno ya lo conocemos:"
   ]
  },
  {
   "cell_type": "markdown",
   "metadata": {},
   "source": [
    "### Requirements 👾"
   ]
  },
  {
   "cell_type": "code",
   "execution_count": 7,
   "metadata": {},
   "outputs": [],
   "source": [
    "#!pip3 install pipreqs"
   ]
  },
  {
   "cell_type": "markdown",
   "metadata": {},
   "source": [
    "Ya sabemos que para automatizar este proceso solamente tenemos que: con la terminal, ir a la carpeta de nuestro proyecto y ejecutar \"pipreqs\""
   ]
  },
  {
   "cell_type": "markdown",
   "metadata": {},
   "source": [
    "### Setup.sh 🦦"
   ]
  },
  {
   "cell_type": "markdown",
   "metadata": {},
   "source": [
    "Save the following in your working directory as setup.sh from your relevant editor. Change the email to match yours.\n"
   ]
  },
  {
   "cell_type": "code",
   "execution_count": null,
   "metadata": {},
   "outputs": [],
   "source": [
    "\"\"\"\n",
    "mkdir -p ~/.streamlit/\n",
    "echo \"\\\n",
    "[general]\\n\\\n",
    "email = \\\"your@domain.com\\\"\\n\\\n",
    "\" > ~/.streamlit/credentials.toml\n",
    "echo \"\\\n",
    "[server]\\n\\\n",
    "headless = true\\n\\\n",
    "enableCORS=false\\n\\\n",
    "port = $PORT\\n\\\n",
    "\" > ~/.streamlit/config.toml\n",
    "\"\"\""
   ]
  },
  {
   "cell_type": "markdown",
   "metadata": {},
   "source": [
    "### Procfile 🥸"
   ]
  },
  {
   "cell_type": "markdown",
   "metadata": {},
   "source": [
    "Este archivo es el que le dice a Heroku qué comandos ejecutar para iniciar nuestro sitio web.  \n",
    "Para crear este archivo lo hacemos desde el vscode o tu editor de código favorito y añadimos lo siguiente 👇🏻   "
   ]
  },
  {
   "cell_type": "code",
   "execution_count": 9,
   "metadata": {},
   "outputs": [],
   "source": [
    "# web: sh setup.sh && streamlit run miapi.py"
   ]
  },
  {
   "cell_type": "markdown",
   "metadata": {},
   "source": [
    "## Heroku ☠️"
   ]
  },
  {
   "cell_type": "markdown",
   "metadata": {},
   "source": [
    "Este apartado es igual que el jupyter anterior así que se viene.....COPYPASTE"
   ]
  },
  {
   "cell_type": "markdown",
   "metadata": {},
   "source": [
    "Partimos de la base de que tenemos la API corriendo en Docker de forma óptima y funcionando. 🙈\n"
   ]
  },
  {
   "cell_type": "markdown",
   "metadata": {},
   "source": [
    "### Instalar CLI"
   ]
  },
  {
   "cell_type": "markdown",
   "metadata": {},
   "source": [
    "En primer lugar hay que instalar la interfaz de comandos, os dejo un enlace con las instrucciones \n",
    "- https://devcenter.heroku.com/articles/heroku-cli"
   ]
  },
  {
   "cell_type": "markdown",
   "metadata": {},
   "source": [
    "\n",
    "### Crear APP en Heroku\n"
   ]
  },
  {
   "cell_type": "markdown",
   "metadata": {},
   "source": [
    "\n",
    "Entras en tu dashborad de Heroku y, desde ahí, creas una API nueva. Mola hacerlo así, porque te sale una pantalla donde te da unas indicaciones.\n"
   ]
  },
  {
   "cell_type": "markdown",
   "metadata": {},
   "source": [
    "![heroku](../images/heroku1.png)"
   ]
  },
  {
   "cell_type": "markdown",
   "metadata": {},
   "source": [
    "### Heroku Login"
   ]
  },
  {
   "cell_type": "markdown",
   "metadata": {},
   "source": [
    "Navegas con la terminal hasta la carpeta donde está el repo y pones el comando de abajo 👇🏻 para hacer login en Heroku.\n",
    "La terminal te dice que pulses una tecla y se te abre una ventana en el navegador. Le dices login. Listo."
   ]
  },
  {
   "cell_type": "code",
   "execution_count": 5,
   "metadata": {},
   "outputs": [],
   "source": [
    "#heroku login "
   ]
  },
  {
   "cell_type": "markdown",
   "metadata": {},
   "source": [
    "### Enlazar el repo de Github a la APP de Heroku"
   ]
  },
  {
   "cell_type": "markdown",
   "metadata": {},
   "source": [
    "Para realizar este paso, sí que es fundamental que estemos dentro del repositorio (en la terminal) donde tenemos la API que vamos a deployear en Heroku. También es importante que el repositorio sea de nuestra propiedad o tengamos permisos en caso de un repo compartido. Evidentemente no podemos deployear el repositorio de otra persona ¿no?"
   ]
  },
  {
   "cell_type": "code",
   "execution_count": 10,
   "metadata": {},
   "outputs": [],
   "source": [
    "#heroku git:remote -a elnombrequelehayaspuestoalaappenheroku"
   ]
  },
  {
   "cell_type": "markdown",
   "metadata": {},
   "source": [
    "## El PUSHEO final 🥲"
   ]
  },
  {
   "cell_type": "markdown",
   "metadata": {},
   "source": [
    "En este caso, lo primero que tenemos que hacer es pushear nuestra rama master a GitHub y tenerla actualizada con todos los cambios.    \n",
    "Cuando eso esté listo...."
   ]
  },
  {
   "cell_type": "code",
   "execution_count": 11,
   "metadata": {},
   "outputs": [],
   "source": [
    "#git push heroku main "
   ]
  },
  {
   "cell_type": "markdown",
   "metadata": {},
   "source": [
    "¡¡¡Y de nuevo estamos en el COBETE!!!"
   ]
  },
  {
   "cell_type": "markdown",
   "metadata": {},
   "source": [
    "![rocket](https://media.giphy.com/media/H5wWaGF3o94IeYmV02/giphy.gif)"
   ]
  }
 ],
 "metadata": {
  "kernelspec": {
   "display_name": "Python 3",
   "language": "python",
   "name": "python3"
  },
  "language_info": {
   "codemirror_mode": {
    "name": "ipython",
    "version": 3
   },
   "file_extension": ".py",
   "mimetype": "text/x-python",
   "name": "python",
   "nbconvert_exporter": "python",
   "pygments_lexer": "ipython3",
   "version": "3.8.5"
  },
  "toc": {
   "base_numbering": 1,
   "nav_menu": {},
   "number_sections": true,
   "sideBar": true,
   "skip_h1_title": true,
   "title_cell": "Table of Contents",
   "title_sidebar": "Contents",
   "toc_cell": false,
   "toc_position": {},
   "toc_section_display": true,
   "toc_window_display": true
  }
 },
 "nbformat": 4,
 "nbformat_minor": 4
}
